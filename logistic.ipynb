{
 "cells": [
  {
   "cell_type": "code",
   "execution_count": 24,
   "metadata": {},
   "outputs": [],
   "source": [
    "import numpy as np\n",
    "import pandas as pd\n",
    "import matplotlib.pyplot as plt"
   ]
  },
  {
   "cell_type": "code",
   "execution_count": 25,
   "metadata": {},
   "outputs": [],
   "source": [
    "X = pd.read_csv('logisticX.csv').values\n",
    "y = pd.read_csv('logisticY.csv').values"
   ]
  },
  {
   "cell_type": "code",
   "execution_count": 26,
   "metadata": {},
   "outputs": [],
   "source": [
    "X = (X - np.mean(X, axis=0)) / np.std(X, axis=0)"
   ]
  },
  {
   "cell_type": "code",
   "execution_count": 27,
   "metadata": {},
   "outputs": [
    {
     "data": {
      "text/plain": [
       "array([[-0.70739532,  1.49166385],\n",
       "       [-1.39759229,  2.13781242],\n",
       "       [-1.14266896,  0.89423113],\n",
       "       [-1.28516611,  0.64964747],\n",
       "       [-0.72243081,  1.37364094],\n",
       "       [-1.34916139, -0.51113841],\n",
       "       [-0.64460893,  0.51210952],\n",
       "       [-1.49566297, -0.74000959],\n",
       "       [-0.4048722 ,  1.00716005],\n",
       "       [-0.97644747,  0.71988725],\n",
       "       [-2.40723674,  0.93570058],\n",
       "       [-0.70580866,  0.39085801],\n",
       "       [-0.13257118, -0.64358236],\n",
       "       [ 0.10996109,  1.41496689],\n",
       "       [-0.67656879,  0.22806531],\n",
       "       [ 0.27248037,  0.82829614],\n",
       "       [-0.32538811,  1.38397243],\n",
       "       [ 0.74825162,  1.11169463],\n",
       "       [-0.64891558,  0.10365696],\n",
       "       [-0.48662296,  0.51189428],\n",
       "       [-0.5197917 ,  0.54346272],\n",
       "       [-0.42746322,  1.41288625],\n",
       "       [-0.21938413,  1.62554274],\n",
       "       [-0.04182936, -0.06559293],\n",
       "       [-1.59894696, -0.03258956],\n",
       "       [-1.83279037,  0.79306863],\n",
       "       [ 0.16307641,  0.69793283],\n",
       "       [-0.11730902,  0.84386512],\n",
       "       [-1.49286742, -0.05633763],\n",
       "       [-0.88812341, -0.2663395 ],\n",
       "       [ 0.55241248,  0.64189885],\n",
       "       [-1.72791972,  1.58959776],\n",
       "       [-0.60108912,  1.154886  ],\n",
       "       [-1.90131896,  0.613559  ],\n",
       "       [-0.71933304,  0.42285693],\n",
       "       [-0.61725794, -0.10928652],\n",
       "       [-0.98891408,  1.34723824],\n",
       "       [-0.13536672,  1.31495234],\n",
       "       [-0.95408312,  0.57955119],\n",
       "       [ 0.04997024,  0.97817448],\n",
       "       [-0.0186339 ,  0.89537907],\n",
       "       [-1.05986044,  1.36711201],\n",
       "       [-0.65307111,  1.88146234],\n",
       "       [-0.69099984, -0.56860731],\n",
       "       [-0.11685569,  0.47752773],\n",
       "       [ 0.09379227,  0.64075091],\n",
       "       [-0.24809512, -0.22070876],\n",
       "       [-0.82971923,  0.48972463],\n",
       "       [-1.52354284,  1.28438835],\n",
       "       [ 0.08563231, -1.34009693],\n",
       "       [-0.93330544, -0.73864641],\n",
       "       [-0.11285127, -1.09852662],\n",
       "       [ 0.87835771, -2.0599291 ],\n",
       "       [ 0.08230788, -1.49126671],\n",
       "       [ 1.37906218, -2.14437468],\n",
       "       [ 0.23719608,  0.48133029],\n",
       "       [ 0.83582012, -0.56207839],\n",
       "       [ 0.20803177, -0.30371941],\n",
       "       [ 1.13940101, -0.58776362],\n",
       "       [-0.58303142,  0.06979263],\n",
       "       [ 1.90522875,  0.35426732],\n",
       "       [ 0.49446162, -1.02749763],\n",
       "       [ 0.55573691, -1.42934952],\n",
       "       [-0.42081436,  0.0593894 ],\n",
       "       [ 0.65909645,  0.88052756],\n",
       "       [ 0.6070389 , -0.89390574],\n",
       "       [-0.2536862 , -1.28219754],\n",
       "       [ 1.1125789 , -0.4961434 ],\n",
       "       [ 2.18614307, -1.41349355],\n",
       "       [ 1.5631147 , -1.29568588],\n",
       "       [ 0.61255443, -0.24940734],\n",
       "       [ 1.08318792, -0.89397748],\n",
       "       [ 0.82274907, -0.35688353],\n",
       "       [ 0.97914838, -1.09759392],\n",
       "       [-0.90489667, -0.31469661],\n",
       "       [-0.02694498, -0.48925574],\n",
       "       [ 0.44474628, -0.36334071],\n",
       "       [ 1.14106322,  0.10846397],\n",
       "       [ 0.93698856, -0.10821032],\n",
       "       [ 0.58293679, -1.84390053],\n",
       "       [-0.97712747,  0.57596386],\n",
       "       [-0.42036103, -1.62959387],\n",
       "       [ 1.67546532, -2.00461259],\n",
       "       [ 0.76457154, -0.0479433 ],\n",
       "       [ 0.6735275 , -1.29769478],\n",
       "       [ 0.4045509 , -2.09888743],\n",
       "       [ 2.86296677, -0.7672015 ],\n",
       "       [ 0.14131651,  0.58651059],\n",
       "       [ 0.5527147 , -0.09199562],\n",
       "       [ 1.06739688, -0.23749743],\n",
       "       [ 1.66382981, -1.50418107],\n",
       "       [ 0.56132799, -1.31577488],\n",
       "       [ 1.39326656, -0.07276757],\n",
       "       [ 1.4147998 ,  0.21751858],\n",
       "       [ 0.85894002,  0.06462689],\n",
       "       [-0.33573918, -0.33600531],\n",
       "       [ 1.26965821, -1.46967103],\n",
       "       [ 0.73910943, -0.86915321],\n",
       "       [ 1.8364735 ,  0.14964643]])"
      ]
     },
     "execution_count": 27,
     "metadata": {},
     "output_type": "execute_result"
    }
   ],
   "source": [
    "X"
   ]
  },
  {
   "cell_type": "code",
   "execution_count": 28,
   "metadata": {},
   "outputs": [],
   "source": [
    "X = np.c_[np.ones((X.shape[0], 1)), X] "
   ]
  },
  {
   "cell_type": "code",
   "execution_count": 29,
   "metadata": {},
   "outputs": [
    {
     "data": {
      "text/plain": [
       "array([[ 1.        , -0.70739532,  1.49166385],\n",
       "       [ 1.        , -1.39759229,  2.13781242],\n",
       "       [ 1.        , -1.14266896,  0.89423113],\n",
       "       [ 1.        , -1.28516611,  0.64964747],\n",
       "       [ 1.        , -0.72243081,  1.37364094],\n",
       "       [ 1.        , -1.34916139, -0.51113841],\n",
       "       [ 1.        , -0.64460893,  0.51210952],\n",
       "       [ 1.        , -1.49566297, -0.74000959],\n",
       "       [ 1.        , -0.4048722 ,  1.00716005],\n",
       "       [ 1.        , -0.97644747,  0.71988725],\n",
       "       [ 1.        , -2.40723674,  0.93570058],\n",
       "       [ 1.        , -0.70580866,  0.39085801],\n",
       "       [ 1.        , -0.13257118, -0.64358236],\n",
       "       [ 1.        ,  0.10996109,  1.41496689],\n",
       "       [ 1.        , -0.67656879,  0.22806531],\n",
       "       [ 1.        ,  0.27248037,  0.82829614],\n",
       "       [ 1.        , -0.32538811,  1.38397243],\n",
       "       [ 1.        ,  0.74825162,  1.11169463],\n",
       "       [ 1.        , -0.64891558,  0.10365696],\n",
       "       [ 1.        , -0.48662296,  0.51189428],\n",
       "       [ 1.        , -0.5197917 ,  0.54346272],\n",
       "       [ 1.        , -0.42746322,  1.41288625],\n",
       "       [ 1.        , -0.21938413,  1.62554274],\n",
       "       [ 1.        , -0.04182936, -0.06559293],\n",
       "       [ 1.        , -1.59894696, -0.03258956],\n",
       "       [ 1.        , -1.83279037,  0.79306863],\n",
       "       [ 1.        ,  0.16307641,  0.69793283],\n",
       "       [ 1.        , -0.11730902,  0.84386512],\n",
       "       [ 1.        , -1.49286742, -0.05633763],\n",
       "       [ 1.        , -0.88812341, -0.2663395 ],\n",
       "       [ 1.        ,  0.55241248,  0.64189885],\n",
       "       [ 1.        , -1.72791972,  1.58959776],\n",
       "       [ 1.        , -0.60108912,  1.154886  ],\n",
       "       [ 1.        , -1.90131896,  0.613559  ],\n",
       "       [ 1.        , -0.71933304,  0.42285693],\n",
       "       [ 1.        , -0.61725794, -0.10928652],\n",
       "       [ 1.        , -0.98891408,  1.34723824],\n",
       "       [ 1.        , -0.13536672,  1.31495234],\n",
       "       [ 1.        , -0.95408312,  0.57955119],\n",
       "       [ 1.        ,  0.04997024,  0.97817448],\n",
       "       [ 1.        , -0.0186339 ,  0.89537907],\n",
       "       [ 1.        , -1.05986044,  1.36711201],\n",
       "       [ 1.        , -0.65307111,  1.88146234],\n",
       "       [ 1.        , -0.69099984, -0.56860731],\n",
       "       [ 1.        , -0.11685569,  0.47752773],\n",
       "       [ 1.        ,  0.09379227,  0.64075091],\n",
       "       [ 1.        , -0.24809512, -0.22070876],\n",
       "       [ 1.        , -0.82971923,  0.48972463],\n",
       "       [ 1.        , -1.52354284,  1.28438835],\n",
       "       [ 1.        ,  0.08563231, -1.34009693],\n",
       "       [ 1.        , -0.93330544, -0.73864641],\n",
       "       [ 1.        , -0.11285127, -1.09852662],\n",
       "       [ 1.        ,  0.87835771, -2.0599291 ],\n",
       "       [ 1.        ,  0.08230788, -1.49126671],\n",
       "       [ 1.        ,  1.37906218, -2.14437468],\n",
       "       [ 1.        ,  0.23719608,  0.48133029],\n",
       "       [ 1.        ,  0.83582012, -0.56207839],\n",
       "       [ 1.        ,  0.20803177, -0.30371941],\n",
       "       [ 1.        ,  1.13940101, -0.58776362],\n",
       "       [ 1.        , -0.58303142,  0.06979263],\n",
       "       [ 1.        ,  1.90522875,  0.35426732],\n",
       "       [ 1.        ,  0.49446162, -1.02749763],\n",
       "       [ 1.        ,  0.55573691, -1.42934952],\n",
       "       [ 1.        , -0.42081436,  0.0593894 ],\n",
       "       [ 1.        ,  0.65909645,  0.88052756],\n",
       "       [ 1.        ,  0.6070389 , -0.89390574],\n",
       "       [ 1.        , -0.2536862 , -1.28219754],\n",
       "       [ 1.        ,  1.1125789 , -0.4961434 ],\n",
       "       [ 1.        ,  2.18614307, -1.41349355],\n",
       "       [ 1.        ,  1.5631147 , -1.29568588],\n",
       "       [ 1.        ,  0.61255443, -0.24940734],\n",
       "       [ 1.        ,  1.08318792, -0.89397748],\n",
       "       [ 1.        ,  0.82274907, -0.35688353],\n",
       "       [ 1.        ,  0.97914838, -1.09759392],\n",
       "       [ 1.        , -0.90489667, -0.31469661],\n",
       "       [ 1.        , -0.02694498, -0.48925574],\n",
       "       [ 1.        ,  0.44474628, -0.36334071],\n",
       "       [ 1.        ,  1.14106322,  0.10846397],\n",
       "       [ 1.        ,  0.93698856, -0.10821032],\n",
       "       [ 1.        ,  0.58293679, -1.84390053],\n",
       "       [ 1.        , -0.97712747,  0.57596386],\n",
       "       [ 1.        , -0.42036103, -1.62959387],\n",
       "       [ 1.        ,  1.67546532, -2.00461259],\n",
       "       [ 1.        ,  0.76457154, -0.0479433 ],\n",
       "       [ 1.        ,  0.6735275 , -1.29769478],\n",
       "       [ 1.        ,  0.4045509 , -2.09888743],\n",
       "       [ 1.        ,  2.86296677, -0.7672015 ],\n",
       "       [ 1.        ,  0.14131651,  0.58651059],\n",
       "       [ 1.        ,  0.5527147 , -0.09199562],\n",
       "       [ 1.        ,  1.06739688, -0.23749743],\n",
       "       [ 1.        ,  1.66382981, -1.50418107],\n",
       "       [ 1.        ,  0.56132799, -1.31577488],\n",
       "       [ 1.        ,  1.39326656, -0.07276757],\n",
       "       [ 1.        ,  1.4147998 ,  0.21751858],\n",
       "       [ 1.        ,  0.85894002,  0.06462689],\n",
       "       [ 1.        , -0.33573918, -0.33600531],\n",
       "       [ 1.        ,  1.26965821, -1.46967103],\n",
       "       [ 1.        ,  0.73910943, -0.86915321],\n",
       "       [ 1.        ,  1.8364735 ,  0.14964643]])"
      ]
     },
     "execution_count": 29,
     "metadata": {},
     "output_type": "execute_result"
    }
   ],
   "source": [
    "X"
   ]
  },
  {
   "cell_type": "code",
   "execution_count": null,
   "metadata": {},
   "outputs": [],
   "source": [
    "def sigmoid_func(z):\n",
    "    return 1 / (1 + np.exp(-z))"
   ]
  },
  {
   "cell_type": "code",
   "execution_count": null,
   "metadata": {},
   "outputs": [],
   "source": [
    "def cost_compute(X, y, theta):\n",
    "    m = len(y)\n",
    "    h = sigmoid_func(X @ theta)\n",
    "    return (-1/m) * np.sum(y * np.log(h) + (1 - y) * np.log(1 - h))"
   ]
  },
  {
   "cell_type": "code",
   "execution_count": null,
   "metadata": {},
   "outputs": [],
   "source": [
    "def gradient_descent(X, y, theta, alpha, iterations):\n",
    "    m = len(y)\n",
    "    cost_history = []\n",
    "    for i in range(iterations):\n",
    "        gradient = (1/m) * (X.T @ (sigmoid_func(X @ theta) - y))\n",
    "        theta -= alpha * gradient\n",
    "        cost_history.append(cost_compute(X, y, theta))\n",
    "    return theta, cost_history"
   ]
  },
  {
   "cell_type": "code",
   "execution_count": 33,
   "metadata": {},
   "outputs": [],
   "source": [
    "theta = np.zeros((X.shape[1], 1))"
   ]
  },
  {
   "cell_type": "code",
   "execution_count": 34,
   "metadata": {},
   "outputs": [
    {
     "data": {
      "text/plain": [
       "array([[0.],\n",
       "       [0.],\n",
       "       [0.]])"
      ]
     },
     "execution_count": 34,
     "metadata": {},
     "output_type": "execute_result"
    }
   ],
   "source": [
    "theta"
   ]
  },
  {
   "cell_type": "code",
   "execution_count": 35,
   "metadata": {},
   "outputs": [],
   "source": [
    "alpha = 0.1\n",
    "iterations = 1000\n",
    "theta_opt, cost_history_01 = gradient_descent(X, y, theta, alpha, iterations)"
   ]
  },
  {
   "cell_type": "code",
   "execution_count": 36,
   "metadata": {},
   "outputs": [],
   "source": [
    "alpha2 = 5\n",
    "theta_opt2, cost_history_5 = gradient_descent(X, y, theta, alpha2, iterations)"
   ]
  },
  {
   "cell_type": "code",
   "execution_count": 37,
   "metadata": {},
   "outputs": [
    {
     "data": {
      "image/png": "[encoded data removed]",
      "text/plain": [
       "<Figure size 640x480 with 1 Axes>"
      ]
     },
     "metadata": {},
     "output_type": "display_data"
    }
   ],
   "source": [
    "plt.plot(range(len(cost_history_01)), cost_history_01, label='LR = 0.1')\n",
    "plt.plot(range(len(cost_history_5)), cost_history_5, label='LR = 5')\n",
    "plt.xlabel('Iterations')\n",
    "plt.ylabel('Cost')\n",
    "plt.legend()\n",
    "plt.title('Cost Function vs Iterations')\n",
    "plt.show()"
   ]
  },
  {
   "cell_type": "code",
   "execution_count": 38,
   "metadata": {},
   "outputs": [
    {
     "data": {
      "image/png": "[encoded data removed]",
      "text/plain": [
       "<Figure size 640x480 with 1 Axes>"
      ]
     },
     "metadata": {},
     "output_type": "display_data"
    }
   ],
   "source": [
    "x_vals = np.linspace(np.min(X[:, 1]), np.max(X[:, 1]), 100)\n",
    "y_vals = -(theta_opt[0] + theta_opt[1] * x_vals) / theta_opt[2]\n",
    "plt.scatter(X[:, 1], X[:, 2], c=y.flatten(), cmap='bwr', alpha=0.6)\n",
    "plt.plot(x_vals, y_vals, 'k--', label='Decision Boundary')\n",
    "plt.xlabel('Feature 1')\n",
    "plt.ylabel('Feature 2')\n",
    "plt.legend()\n",
    "plt.title('Decision Boundary')\n",
    "plt.show()"
   ]
  },
  {
   "cell_type": "code",
   "execution_count": null,
   "metadata": {},
   "outputs": [],
   "source": [
    "y_pred = sigmoid_func(X @ theta_opt) >= 0.5"
   ]
  },
  {
   "cell_type": "code",
   "execution_count": 40,
   "metadata": {},
   "outputs": [],
   "source": [
    "from sklearn.metrics import confusion_matrix, accuracy_score, precision_score, recall_score, f1_score\n",
    "cm = confusion_matrix(y, y_pred)\n",
    "accuracy = accuracy_score(y, y_pred)\n",
    "precision = precision_score(y, y_pred)\n",
    "recall = recall_score(y, y_pred)\n",
    "f1 = f1_score(y, y_pred)"
   ]
  },
  {
   "cell_type": "code",
   "execution_count": 41,
   "metadata": {},
   "outputs": [
    {
     "name": "stdout",
     "output_type": "stream",
     "text": [
      "Confusion Matrix:\n",
      " [[44  5]\n",
      " [ 7 43]]\n",
      "Accuracy: 0.8788\n",
      "Precision: 0.8958\n",
      "Recall: 0.8600\n",
      "F1 Score: 0.8776\n"
     ]
    }
   ],
   "source": [
    "print(\"Confusion Matrix:\\n\", cm)\n",
    "print(f\"Accuracy: {accuracy:.4f}\")\n",
    "print(f\"Precision: {precision:.4f}\")\n",
    "print(f\"Recall: {recall:.4f}\")\n",
    "print(f\"F1 Score: {f1:.4f}\")\n"
   ]
  }
 ],
 "metadata": {
  "kernelspec": {
   "display_name": "Python 3",
   "language": "python",
   "name": "python3"
  },
  "language_info": {
   "codemirror_mode": {
    "name": "ipython",
    "version": 3
   },
   "file_extension": ".py",
   "mimetype": "text/x-python",
   "name": "python",
   "nbconvert_exporter": "python",
   "pygments_lexer": "ipython3",
   "version": "3.11.0"
  }
 },
 "nbformat": 4,
 "nbformat_minor": 2
}
